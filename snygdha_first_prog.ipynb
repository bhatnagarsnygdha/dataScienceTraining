{
 "cells": [
  {
   "cell_type": "code",
   "execution_count": 1,
   "id": "487439b7",
   "metadata": {},
   "outputs": [
    {
     "name": "stdout",
     "output_type": "stream",
     "text": [
      "snygdha\n"
     ]
    }
   ],
   "source": [
    "print(\"snygdha\")"
   ]
  },
  {
   "cell_type": "code",
   "execution_count": 2,
   "id": "93a52df7",
   "metadata": {},
   "outputs": [],
   "source": [
    "a=5"
   ]
  },
  {
   "cell_type": "code",
   "execution_count": 4,
   "id": "0efe4dbb",
   "metadata": {},
   "outputs": [
    {
     "data": {
      "text/plain": [
       "5"
      ]
     },
     "execution_count": 4,
     "metadata": {},
     "output_type": "execute_result"
    }
   ],
   "source": [
    "a"
   ]
  },
  {
   "cell_type": "code",
   "execution_count": 3,
   "id": "ff2f1418",
   "metadata": {},
   "outputs": [
    {
     "name": "stdout",
     "output_type": "stream",
     "text": [
      "5\n"
     ]
    }
   ],
   "source": [
    "print(a)"
   ]
  },
  {
   "cell_type": "code",
   "execution_count": 5,
   "id": "0ed5103a",
   "metadata": {},
   "outputs": [
    {
     "data": {
      "text/plain": [
       "int"
      ]
     },
     "execution_count": 5,
     "metadata": {},
     "output_type": "execute_result"
    }
   ],
   "source": [
    "type(a)"
   ]
  },
  {
   "cell_type": "code",
   "execution_count": 6,
   "id": "8e45b292",
   "metadata": {},
   "outputs": [],
   "source": [
    "str=\"snygdha\""
   ]
  },
  {
   "cell_type": "code",
   "execution_count": 7,
   "id": "aed047ee",
   "metadata": {},
   "outputs": [
    {
     "data": {
      "text/plain": [
       "str"
      ]
     },
     "execution_count": 7,
     "metadata": {},
     "output_type": "execute_result"
    }
   ],
   "source": [
    "type(str)"
   ]
  },
  {
   "cell_type": "code",
   "execution_count": 8,
   "id": "7bf03769",
   "metadata": {},
   "outputs": [
    {
     "name": "stdout",
     "output_type": "stream",
     "text": [
      "snygdha\n"
     ]
    }
   ],
   "source": [
    "print(str)"
   ]
  },
  {
   "cell_type": "code",
   "execution_count": 9,
   "id": "325ddf1f",
   "metadata": {},
   "outputs": [
    {
     "data": {
      "text/plain": [
       "'snygdha'"
      ]
     },
     "execution_count": 9,
     "metadata": {},
     "output_type": "execute_result"
    }
   ],
   "source": [
    "str"
   ]
  },
  {
   "cell_type": "code",
   "execution_count": 12,
   "id": "9ff981c9",
   "metadata": {},
   "outputs": [],
   "source": [
    "b=len(str) "
   ]
  },
  {
   "cell_type": "code",
   "execution_count": 13,
   "id": "b0be7588",
   "metadata": {},
   "outputs": [
    {
     "name": "stdout",
     "output_type": "stream",
     "text": [
      "length of my name is:  7\n"
     ]
    }
   ],
   "source": [
    "print(\"length of my name is: \", b)"
   ]
  },
  {
   "cell_type": "code",
   "execution_count": 15,
   "id": "4b6ab6da",
   "metadata": {},
   "outputs": [],
   "source": [
    "c=range(5)"
   ]
  },
  {
   "cell_type": "code",
   "execution_count": 16,
   "id": "de16c1b2",
   "metadata": {},
   "outputs": [
    {
     "name": "stdout",
     "output_type": "stream",
     "text": [
      "range(0, 5)\n"
     ]
    }
   ],
   "source": [
    "print(c)"
   ]
  },
  {
   "cell_type": "code",
   "execution_count": 17,
   "id": "87be041d",
   "metadata": {},
   "outputs": [],
   "source": [
    "d=list(c)"
   ]
  },
  {
   "cell_type": "code",
   "execution_count": 18,
   "id": "3958f727",
   "metadata": {},
   "outputs": [
    {
     "name": "stdout",
     "output_type": "stream",
     "text": [
      "[0, 1, 2, 3, 4]\n"
     ]
    }
   ],
   "source": [
    "print(d)"
   ]
  },
  {
   "cell_type": "code",
   "execution_count": 20,
   "id": "d1065cf8",
   "metadata": {},
   "outputs": [
    {
     "name": "stdout",
     "output_type": "stream",
     "text": [
      "[0, 1, 2, 3, 4, 5, 6, 7, 8, 9]\n"
     ]
    }
   ],
   "source": [
    "print(list(range(10)))   ###list the number from 0 to n-1"
   ]
  },
  {
   "cell_type": "code",
   "execution_count": 21,
   "id": "a4a618b1",
   "metadata": {},
   "outputs": [
    {
     "name": "stdout",
     "output_type": "stream",
     "text": [
      "0\n",
      "1\n",
      "2\n",
      "3\n",
      "4\n"
     ]
    }
   ],
   "source": [
    "for i in range(5):\n",
    "    print(i)"
   ]
  },
  {
   "cell_type": "code",
   "execution_count": 22,
   "id": "b1aefec3",
   "metadata": {},
   "outputs": [],
   "source": [
    "a=[]"
   ]
  },
  {
   "cell_type": "code",
   "execution_count": 23,
   "id": "c968baeb",
   "metadata": {},
   "outputs": [
    {
     "data": {
      "text/plain": [
       "list"
      ]
     },
     "execution_count": 23,
     "metadata": {},
     "output_type": "execute_result"
    }
   ],
   "source": [
    "type(a)"
   ]
  },
  {
   "cell_type": "code",
   "execution_count": 24,
   "id": "bfe23993",
   "metadata": {},
   "outputs": [],
   "source": [
    "b={}"
   ]
  },
  {
   "cell_type": "code",
   "execution_count": 25,
   "id": "c31ba6aa",
   "metadata": {},
   "outputs": [
    {
     "data": {
      "text/plain": [
       "dict"
      ]
     },
     "execution_count": 25,
     "metadata": {},
     "output_type": "execute_result"
    }
   ],
   "source": [
    "type(b)"
   ]
  },
  {
   "cell_type": "code",
   "execution_count": 26,
   "id": "cedc9721",
   "metadata": {},
   "outputs": [],
   "source": [
    "c=()"
   ]
  },
  {
   "cell_type": "code",
   "execution_count": 27,
   "id": "a657a454",
   "metadata": {},
   "outputs": [
    {
     "data": {
      "text/plain": [
       "tuple"
      ]
     },
     "execution_count": 27,
     "metadata": {},
     "output_type": "execute_result"
    }
   ],
   "source": [
    "type(c)"
   ]
  },
  {
   "cell_type": "code",
   "execution_count": 28,
   "id": "ae4dd6bc",
   "metadata": {},
   "outputs": [],
   "source": [
    "var=[1,2,10,30.5,\"snygdha\",40.5,'a']"
   ]
  },
  {
   "cell_type": "code",
   "execution_count": 29,
   "id": "5bfecf80",
   "metadata": {},
   "outputs": [
    {
     "data": {
      "text/plain": [
       "[1, 2, 10, 30.5, 'snygdha', 40.5, 'a']"
      ]
     },
     "execution_count": 29,
     "metadata": {},
     "output_type": "execute_result"
    }
   ],
   "source": [
    "var"
   ]
  },
  {
   "cell_type": "code",
   "execution_count": 30,
   "id": "e1437baf",
   "metadata": {},
   "outputs": [
    {
     "data": {
      "text/plain": [
       "list"
      ]
     },
     "execution_count": 30,
     "metadata": {},
     "output_type": "execute_result"
    }
   ],
   "source": [
    "type(var)"
   ]
  },
  {
   "cell_type": "code",
   "execution_count": 31,
   "id": "ce51c375",
   "metadata": {},
   "outputs": [
    {
     "data": {
      "text/plain": [
       "1"
      ]
     },
     "execution_count": 31,
     "metadata": {},
     "output_type": "execute_result"
    }
   ],
   "source": [
    "var[0]"
   ]
  },
  {
   "cell_type": "code",
   "execution_count": 32,
   "id": "fb445449",
   "metadata": {},
   "outputs": [
    {
     "data": {
      "text/plain": [
       "2"
      ]
     },
     "execution_count": 32,
     "metadata": {},
     "output_type": "execute_result"
    }
   ],
   "source": [
    "var[1]"
   ]
  },
  {
   "cell_type": "code",
   "execution_count": 33,
   "id": "5c6235b4",
   "metadata": {},
   "outputs": [
    {
     "data": {
      "text/plain": [
       "40.5"
      ]
     },
     "execution_count": 33,
     "metadata": {},
     "output_type": "execute_result"
    }
   ],
   "source": [
    "var[5]"
   ]
  },
  {
   "cell_type": "code",
   "execution_count": 34,
   "id": "e7cd897e",
   "metadata": {},
   "outputs": [
    {
     "data": {
      "text/plain": [
       "'snygdha'"
      ]
     },
     "execution_count": 34,
     "metadata": {},
     "output_type": "execute_result"
    }
   ],
   "source": [
    "var[4]"
   ]
  },
  {
   "cell_type": "code",
   "execution_count": 35,
   "id": "99cb5226",
   "metadata": {},
   "outputs": [
    {
     "data": {
      "text/plain": [
       "'a'"
      ]
     },
     "execution_count": 35,
     "metadata": {},
     "output_type": "execute_result"
    }
   ],
   "source": [
    "var[-1]"
   ]
  },
  {
   "cell_type": "code",
   "execution_count": 36,
   "id": "d4257924",
   "metadata": {},
   "outputs": [
    {
     "data": {
      "text/plain": [
       "'snygdha'"
      ]
     },
     "execution_count": 36,
     "metadata": {},
     "output_type": "execute_result"
    }
   ],
   "source": [
    "var[-3]"
   ]
  },
  {
   "cell_type": "code",
   "execution_count": 37,
   "id": "57acd739",
   "metadata": {},
   "outputs": [],
   "source": [
    "b=\"INDEPENDENCE\""
   ]
  },
  {
   "cell_type": "code",
   "execution_count": 38,
   "id": "a7eaf745",
   "metadata": {},
   "outputs": [
    {
     "data": {
      "text/plain": [
       "12"
      ]
     },
     "execution_count": 38,
     "metadata": {},
     "output_type": "execute_result"
    }
   ],
   "source": [
    "len(b)"
   ]
  },
  {
   "cell_type": "code",
   "execution_count": 39,
   "id": "b0bd2cb2",
   "metadata": {},
   "outputs": [
    {
     "data": {
      "text/plain": [
       "'D'"
      ]
     },
     "execution_count": 39,
     "metadata": {},
     "output_type": "execute_result"
    }
   ],
   "source": [
    "b[7]"
   ]
  },
  {
   "cell_type": "code",
   "execution_count": 40,
   "id": "77b5108a",
   "metadata": {},
   "outputs": [
    {
     "data": {
      "text/plain": [
       "'D'"
      ]
     },
     "execution_count": 40,
     "metadata": {},
     "output_type": "execute_result"
    }
   ],
   "source": [
    "b[-5]"
   ]
  },
  {
   "cell_type": "code",
   "execution_count": 41,
   "id": "f7728939",
   "metadata": {},
   "outputs": [
    {
     "data": {
      "text/plain": [
       "'DEPEN'"
      ]
     },
     "execution_count": 41,
     "metadata": {},
     "output_type": "execute_result"
    }
   ],
   "source": [
    "b[2:7] ##DEPEND Starting inc ending not inc"
   ]
  },
  {
   "cell_type": "code",
   "execution_count": 43,
   "id": "b08a7daf",
   "metadata": {},
   "outputs": [
    {
     "data": {
      "text/plain": [
       "'DEE'"
      ]
     },
     "execution_count": 43,
     "metadata": {},
     "output_type": "execute_result"
    }
   ],
   "source": [
    "b[2:9:3] ## starting + end-1 + width-1"
   ]
  },
  {
   "cell_type": "code",
   "execution_count": 44,
   "id": "a7318e17",
   "metadata": {},
   "outputs": [],
   "source": [
    "var=\"MISSISSIPPI\""
   ]
  },
  {
   "cell_type": "code",
   "execution_count": 48,
   "id": "3e5dfb14",
   "metadata": {},
   "outputs": [
    {
     "data": {
      "text/plain": [
       "'PP'"
      ]
     },
     "execution_count": 48,
     "metadata": {},
     "output_type": "execute_result"
    }
   ],
   "source": [
    "var[-3:-1] ## when u r going backward both start is inc n ending not ended"
   ]
  },
  {
   "cell_type": "code",
   "execution_count": 49,
   "id": "cd6a3b8b",
   "metadata": {},
   "outputs": [],
   "source": [
    "lis=[2,7,17,18,3,24,30]"
   ]
  },
  {
   "cell_type": "code",
   "execution_count": 52,
   "id": "d2796e35",
   "metadata": {},
   "outputs": [],
   "source": [
    "a=len(lis)"
   ]
  },
  {
   "cell_type": "code",
   "execution_count": 56,
   "id": "7f97d80b",
   "metadata": {},
   "outputs": [],
   "source": [
    "even=[]"
   ]
  },
  {
   "cell_type": "code",
   "execution_count": 57,
   "id": "c6dd28f2",
   "metadata": {},
   "outputs": [],
   "source": [
    "for i in range(a):\n",
    "    if(lis[i] % 2 == 0):\n",
    "        even.append(lis[i])"
   ]
  },
  {
   "cell_type": "code",
   "execution_count": 58,
   "id": "1b2e89cc",
   "metadata": {},
   "outputs": [
    {
     "data": {
      "text/plain": [
       "[2, 18, 24, 30]"
      ]
     },
     "execution_count": 58,
     "metadata": {},
     "output_type": "execute_result"
    }
   ],
   "source": [
    " even"
   ]
  },
  {
   "cell_type": "code",
   "execution_count": 59,
   "id": "04eaa7b2",
   "metadata": {},
   "outputs": [],
   "source": [
    " odd=[]"
   ]
  },
  {
   "cell_type": "code",
   "execution_count": 60,
   "id": "7e307ebc",
   "metadata": {},
   "outputs": [],
   "source": [
    "for i in range(a):\n",
    "    if(lis[i] % 2 != 0):\n",
    "        odd.append(lis[i])"
   ]
  },
  {
   "cell_type": "code",
   "execution_count": 61,
   "id": "b860ed11",
   "metadata": {},
   "outputs": [
    {
     "data": {
      "text/plain": [
       "[7, 17, 3]"
      ]
     },
     "execution_count": 61,
     "metadata": {},
     "output_type": "execute_result"
    }
   ],
   "source": [
    "odd"
   ]
  },
  {
   "cell_type": "code",
   "execution_count": 62,
   "id": "c165c2ec",
   "metadata": {},
   "outputs": [],
   "source": [
    "dup =[2,2,3,4,4]"
   ]
  },
  {
   "cell_type": "code",
   "execution_count": 63,
   "id": "2bae60d8",
   "metadata": {},
   "outputs": [
    {
     "data": {
      "text/plain": [
       "[2, 2, 3, 4, 4]"
      ]
     },
     "execution_count": 63,
     "metadata": {},
     "output_type": "execute_result"
    }
   ],
   "source": [
    "dup"
   ]
  },
  {
   "cell_type": "code",
   "execution_count": 67,
   "id": "3d57e6c7",
   "metadata": {},
   "outputs": [],
   "source": [
    "tu_ex=(2,3,2,6,4)"
   ]
  },
  {
   "cell_type": "code",
   "execution_count": 68,
   "id": "2679edb4",
   "metadata": {},
   "outputs": [
    {
     "data": {
      "text/plain": [
       "(2, 3, 2, 6, 4)"
      ]
     },
     "execution_count": 68,
     "metadata": {},
     "output_type": "execute_result"
    }
   ],
   "source": [
    "tu_ex"
   ]
  },
  {
   "cell_type": "code",
   "execution_count": 66,
   "id": "1fea9b35",
   "metadata": {},
   "outputs": [
    {
     "data": {
      "text/plain": [
       "tuple"
      ]
     },
     "execution_count": 66,
     "metadata": {},
     "output_type": "execute_result"
    }
   ],
   "source": [
    "type(tu_ex)"
   ]
  },
  {
   "cell_type": "code",
   "execution_count": 69,
   "id": "8452a45e",
   "metadata": {},
   "outputs": [
    {
     "data": {
      "text/plain": [
       "{2, 3, 4, 6}"
      ]
     },
     "execution_count": 69,
     "metadata": {},
     "output_type": "execute_result"
    }
   ],
   "source": [
    "set(tu_ex)## duplicates are not allowed in the set"
   ]
  },
  {
   "cell_type": "code",
   "execution_count": 70,
   "id": "c2a00de5",
   "metadata": {},
   "outputs": [],
   "source": [
    "name=\"snygdha\""
   ]
  },
  {
   "cell_type": "code",
   "execution_count": 71,
   "id": "117a602f",
   "metadata": {},
   "outputs": [
    {
     "data": {
      "text/plain": [
       "str"
      ]
     },
     "execution_count": 71,
     "metadata": {},
     "output_type": "execute_result"
    }
   ],
   "source": [
    "type(name)"
   ]
  },
  {
   "cell_type": "code",
   "execution_count": 74,
   "id": "117fffa3",
   "metadata": {},
   "outputs": [],
   "source": [
    "num1=\"5\""
   ]
  },
  {
   "cell_type": "code",
   "execution_count": 75,
   "id": "dea848d0",
   "metadata": {},
   "outputs": [
    {
     "data": {
      "text/plain": [
       "str"
      ]
     },
     "execution_count": 75,
     "metadata": {},
     "output_type": "execute_result"
    }
   ],
   "source": [
    "type(num1)"
   ]
  },
  {
   "cell_type": "code",
   "execution_count": 76,
   "id": "f835e965",
   "metadata": {},
   "outputs": [],
   "source": [
    "num2=\"11\""
   ]
  },
  {
   "cell_type": "code",
   "execution_count": 77,
   "id": "7cfb5b3a",
   "metadata": {},
   "outputs": [
    {
     "data": {
      "text/plain": [
       "'511'"
      ]
     },
     "execution_count": 77,
     "metadata": {},
     "output_type": "execute_result"
    }
   ],
   "source": [
    "num1+num2"
   ]
  },
  {
   "cell_type": "code",
   "execution_count": 78,
   "id": "73d30983",
   "metadata": {},
   "outputs": [
    {
     "data": {
      "text/plain": [
       "16"
      ]
     },
     "execution_count": 78,
     "metadata": {},
     "output_type": "execute_result"
    }
   ],
   "source": [
    "int(num1)+int(num2)"
   ]
  },
  {
   "cell_type": "code",
   "execution_count": 87,
   "id": "bc61ed46",
   "metadata": {},
   "outputs": [],
   "source": [
    "list_ex=[2,4,5,['a',2,37,\"snygdha\"],\"rajesh\"]"
   ]
  },
  {
   "cell_type": "code",
   "execution_count": 88,
   "id": "e4fc2c30",
   "metadata": {},
   "outputs": [
    {
     "data": {
      "text/plain": [
       "[2, 4, 5, ['a', 2, 37, 'snygdha'], 'rajesh']"
      ]
     },
     "execution_count": 88,
     "metadata": {},
     "output_type": "execute_result"
    }
   ],
   "source": [
    "list_ex"
   ]
  },
  {
   "cell_type": "code",
   "execution_count": 89,
   "id": "ad41eea9",
   "metadata": {},
   "outputs": [],
   "source": [
    "var3=['b', 5, 43, 'ashoka']"
   ]
  },
  {
   "cell_type": "code",
   "execution_count": 90,
   "id": "74fc47eb",
   "metadata": {},
   "outputs": [],
   "source": [
    "list_ex.append(var3)"
   ]
  },
  {
   "cell_type": "code",
   "execution_count": 91,
   "id": "c87589c0",
   "metadata": {},
   "outputs": [
    {
     "data": {
      "text/plain": [
       "[2, 4, 5, ['a', 2, 37, 'snygdha'], 'rajesh', ['b', 5, 43, 'ashoka']]"
      ]
     },
     "execution_count": 91,
     "metadata": {},
     "output_type": "execute_result"
    }
   ],
   "source": [
    "list_ex"
   ]
  },
  {
   "cell_type": "code",
   "execution_count": 92,
   "id": "b319de48",
   "metadata": {},
   "outputs": [],
   "source": [
    "var4=[2,4,5,['a',2,37,\"snygdha\"],\"rajesh\"]"
   ]
  },
  {
   "cell_type": "code",
   "execution_count": 93,
   "id": "0a1be088",
   "metadata": {},
   "outputs": [],
   "source": [
    "var5=['b', 5, 43, 'ashoka']"
   ]
  },
  {
   "cell_type": "code",
   "execution_count": 94,
   "id": "edd66a14",
   "metadata": {},
   "outputs": [],
   "source": [
    "var4.extend(var5)"
   ]
  },
  {
   "cell_type": "code",
   "execution_count": 95,
   "id": "71763388",
   "metadata": {},
   "outputs": [
    {
     "data": {
      "text/plain": [
       "[2, 4, 5, ['a', 2, 37, 'snygdha'], 'rajesh', 'b', 5, 43, 'ashoka']"
      ]
     },
     "execution_count": 95,
     "metadata": {},
     "output_type": "execute_result"
    }
   ],
   "source": [
    "var4"
   ]
  },
  {
   "cell_type": "code",
   "execution_count": 97,
   "id": "a2795822",
   "metadata": {},
   "outputs": [],
   "source": [
    "var5=[2, 4, 5, 'a', 2, 37, 'snygdha', 'rajesh', 'b', 5, 43, 'ashoka']"
   ]
  },
  {
   "cell_type": "code",
   "execution_count": 98,
   "id": "8e721675",
   "metadata": {},
   "outputs": [
    {
     "data": {
      "text/plain": [
       "{2, 37, 4, 43, 5, 'a', 'ashoka', 'b', 'rajesh', 'snygdha'}"
      ]
     },
     "execution_count": 98,
     "metadata": {},
     "output_type": "execute_result"
    }
   ],
   "source": [
    "set(var5)## set never retuns a sorted dataset, only distinct dataset"
   ]
  },
  {
   "cell_type": "code",
   "execution_count": 100,
   "id": "e8f66d3b",
   "metadata": {},
   "outputs": [],
   "source": [
    "var6=[2, 4, 5, 'a', 2, 37, 'snygdha', 'rajesh', 'b', 5, 43, 'ashoka',4,5,6,7,3,4,7,4,1,2,0,5656,2342,234,\"abc\",\"##\",\"anand\"]"
   ]
  },
  {
   "cell_type": "code",
   "execution_count": 102,
   "id": "cb17a143",
   "metadata": {},
   "outputs": [
    {
     "data": {
      "text/plain": [
       "{'##',\n",
       " 0,\n",
       " 1,\n",
       " 2,\n",
       " 234,\n",
       " 2342,\n",
       " 3,\n",
       " 37,\n",
       " 4,\n",
       " 43,\n",
       " 5,\n",
       " 5656,\n",
       " 6,\n",
       " 7,\n",
       " 'a',\n",
       " 'abc',\n",
       " 'anand',\n",
       " 'ashoka',\n",
       " 'b',\n",
       " 'rajesh',\n",
       " 'snygdha'}"
      ]
     },
     "execution_count": 102,
     "metadata": {},
     "output_type": "execute_result"
    }
   ],
   "source": [
    "set(var6)"
   ]
  },
  {
   "cell_type": "code",
   "execution_count": null,
   "id": "7f399d3a",
   "metadata": {},
   "outputs": [],
   "source": []
  }
 ],
 "metadata": {
  "kernelspec": {
   "display_name": "Python 3 (ipykernel)",
   "language": "python",
   "name": "python3"
  },
  "language_info": {
   "codemirror_mode": {
    "name": "ipython",
    "version": 3
   },
   "file_extension": ".py",
   "mimetype": "text/x-python",
   "name": "python",
   "nbconvert_exporter": "python",
   "pygments_lexer": "ipython3",
   "version": "3.9.12"
  }
 },
 "nbformat": 4,
 "nbformat_minor": 5
}
